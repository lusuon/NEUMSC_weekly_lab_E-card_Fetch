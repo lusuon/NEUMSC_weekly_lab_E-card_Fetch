{
 "cells": [
  {
   "cell_type": "markdown",
   "metadata": {},
   "source": [
    "# 冻手实验室3.18-NEU校园卡查询中心模拟登陆与数据获取\n",
    "\n",
    "## 1.本次将学到\n",
    "\n",
    "- 如何利用浏览器的开发者功能来了解一个页面\n",
    "- 用与发送http请求的python库-[requests](http://docs.python-requests.org/zh_CN/latest/user/quickstart.html)\n",
    "- 用与解析网页的python库-[BeautifulSoup](https://www.crummy.com/software/BeautifulSoup/bs4/doc/index.zh.html)\n",
    "\n",
    "## 2.环境配置\n",
    "\n",
    "**强烈建议大家提前配置好环境**\n",
    "- python3\n",
    "- python包：\n",
    "    - requests   安装方法：`pip install requests`  \n",
    "    - BeautifulSoup [安装方法见此处](https://www.crummy.com/software/BeautifulSoup/bs4/doc/index.zh.html#id5)\n",
    "    - jupyter notebook  [安装方法见此处](http://jupyter.org/install)\n",
    "    - matplotlib 安装方法：`pip install -U matplotlib`  或者查看[官方教程](https://matplotlib.org/users/installing.html)\n",
    "- **推荐使用**chrome或者Firefox浏览器\n"
   ]
  },
  {
   "cell_type": "markdown",
   "metadata": {},
   "source": [
    "## 3.导入需要用到的包"
   ]
  },
  {
   "cell_type": "code",
   "execution_count": 1,
   "metadata": {},
   "outputs": [],
   "source": [
    "import requests\n",
    "from bs4 import BeautifulSoup\n",
    "import random\n",
    "import tesserocr\n",
    "from PIL import Image\n",
    "import matplotlib.pyplot as plt\n",
    "import matplotlib.image as mpimg\n",
    "%matplotlib inline"
   ]
  },
  {
   "cell_type": "markdown",
   "metadata": {},
   "source": [
    "## 4.具体步骤\n",
    "\n",
    "- 4.1模拟登录\n",
    "    - 4.1.1获取登陆页面\n",
    "    - 4.1.2获取验证码\n",
    "    - 4.1.3登录\n",
    "\n",
    "- 4.2数据查询与获取\n",
    "    - 4.2.1 获取查询页面\n",
    "    - 4.2.2 进行查询\n",
    "    - 4.2.3 结果翻页\n",
    "\n",
    "\n",
    "\n"
   ]
  },
  {
   "cell_type": "markdown",
   "metadata": {},
   "source": [
    "### 4.1.1获取登陆页面\n",
    "\n",
    "这里，我们先获取尝试利用request来发送get请求登录页面。\n",
    "\n",
    "为了保持登录的状态，我们需要用到requests的session对象，他可以自动地为我们保存cookies。而一般网站会利用cookies来保存用户的状态。\n",
    "\n",
    "我们还将使用BeautifulSoup来解析此页面"
   ]
  },
  {
   "cell_type": "code",
   "execution_count": 2,
   "metadata": {},
   "outputs": [],
   "source": [
    "session = requests.Session()"
   ]
  },
  {
   "cell_type": "code",
   "execution_count": 3,
   "metadata": {},
   "outputs": [],
   "source": [
    "url_login='http://ecard.neu.edu.cn/SelfSearch/Login.aspx'\n",
    "resp_login_page = session.get(url=url_login)"
   ]
  },
  {
   "cell_type": "code",
   "execution_count": 4,
   "metadata": {
    "scrolled": false
   },
   "outputs": [
    {
     "name": "stdout",
     "output_type": "stream",
     "text": [
      "\r\n",
      "<!DOCTYPE html PUBLIC \"-//W3C//Dtd XHTML 1.0 Transitional//EN\" \"http://www.w3.org/TR/xhtml1/Dtd/xhtml1-transitional.dtd\">\r\n",
      "<html xmlns=\"http://www.w3.org/1999/xhtml\">\r\n",
      "<head id=\"Head1\"><title>\r\n",
      "\t\r\n",
      "        一卡通自助查询\r\n",
      "        --欢迎登录\r\n",
      "</title><meta http-equiv=\"Pragma\" content=\"no-cache\" /><meta http-equiv=\"Cache-Control\" content=\"no-cache\" /><meta http-equiv=\"Expires\" content=\"0\" /><link href=\"css/login.css\" rel=\"stylesheet\" type=\"text/css\" />\r\n",
      "    <style type=\"text/css\">\r\n",
      "        .schoolName\r\n",
      "        {\r\n",
      "            margin-top: 5px;\r\n",
      "            width: 320px;\r\n",
      "            display: none;\r\n",
      "            text-align: center;\r\n",
      "            color: Red;\r\n",
      "        }\r\n",
      "        /* 遮罩层 */\r\n",
      "        .overlay { background: #000000; opacity: .50;filter:Alpha(Opacity=50); }\r\n",
      "\r\n",
      "        .overlay-container{position:absolute;z-index:2000;}\r\n",
      "        .overlay-loading{background:url(images/loading2.gif) no-repeat center center; width:124px; height:124px; text-align:center; line-height:124px; vertical-align:middle; color:White; font-size:15px; font-weight:bold;}\r\n",
      "        .overlay-msg{ text-align:center; color:White; font-size:14px; font-weight:bold; margin-top:8px;}\r\n",
      "    </style>\r\n",
      "     \r\n",
      "    <script src=\"JS/jquery-1.7.2.min.js\" type=\"text/javascript\"></script>\r\n",
      "    <script src=\"JS/keyboard/bigkeyboard.js\" type=\"text/javascript\"></script>\r\n",
      "    <script src=\"JS/DisableContextMenu.js\" type=\"text/javascript\"></script>\r\n",
      "    <script src=\"JS/jquery.overlay.js\" type=\"text/javascript\"></script>\r\n",
      "    <script type=\"text/javascript\">\r\n",
      "        var isUseSoftKeyBoard=false;\r\n",
      "        if(self!=top){\r\n",
      "            var url=self.location.href.toLowerCase();\r\n",
      "            if(url.indexOf(\"index_welcome.aspx\"))\r\n",
      "                top.location=url.substring(0,url.indexOf(\"?\"));\r\n",
      "            else\r\n",
      "                top.location=url;\r\n",
      "        }\r\n",
      "       \r\n",
      "        function ShowValidImage()\r\n",
      "        {\r\n",
      "            if(document.getElementById(\"imgRandom\"))\r\n",
      "                document.getElementById(\"imgRandom\").src = \"validateimage.ashx?\"+Math.random();\r\n",
      "        }\r\n",
      "        \r\n",
      "         function FormReset() {\r\n",
      "            var formLength=document.forms.length;\r\n",
      "\t\t\tfor(i=0;i<formLength;i++)\r\n",
      "\t\t\t{\r\n",
      "                if(document.forms[i].id=='form2')\r\n",
      "\t\t\t\t    $(document.forms[i]).find(\"input[type='text'],input[type='password']\").val('');\r\n",
      "\t\t\t}\r\n",
      "        }\r\n",
      "        \r\n",
      "        $(function(){\r\n",
      "            Upgrade();\r\n",
      "            ShowValidImage();\r\n",
      "            SetSoftKey('#txtCustUnitCode,#txtUserName,#txtPassword,#txtVaildateCode');\r\n",
      "            $('#txtCustUnitCode').bind('blur',function(){ \r\n",
      "                $.ajax({\r\n",
      "                    url:'ajax/ajax.ashx',\r\n",
      "                    data:{'action':'getscname','scid':$('#txtCustUnitCode').val()},\r\n",
      "                    type: \"GET\",\r\n",
      "                    success:function(data)\r\n",
      "                    {\r\n",
      "                        var jsonData= jQuery.parseJSON(data);\r\n",
      "                        if(jsonData.ResultCode=='1')\r\n",
      "                            $('.schoolName').show().text(jsonData.Result);\r\n",
      "                        else\r\n",
      "                            $('.schoolName').show().text('不存在的企业代码');\r\n",
      "                    }\r\n",
      "                });\r\n",
      "            });\r\n",
      "        });\r\n",
      "        \r\n",
      "        var SetSoftKey=function(idList)\r\n",
      "        {\r\n",
      "            if(isUseSoftKeyBoard)\r\n",
      "            {\r\n",
      "                $(idList).bind('mousedown',function(){\r\n",
      "                    password1=this;showkeyboard();this.readOnly=1;Calc.password.value='';\r\n",
      "                }).bind('keydown',function(){\r\n",
      "                    Calc.password.value=this.value;});\r\n",
      "            }\r\n",
      "        }\r\n",
      "       \r\n",
      "        if (document.layers){\r\n",
      "                document.captureEvents(Event.MOUSEDOWN);\r\n",
      "                document.onmousedown=clickNS4;\r\n",
      "                document.onkeydown=OnDeny();\r\n",
      "        }else if (document.all&&!document.getElementById){\r\n",
      "                document.onmousedown=clickIE4;\r\n",
      "                document.onkeydown=OnDeny();\r\n",
      "        }\r\n",
      " \r\n",
      "        document.oncontextmenu=new Function(\"return false\");\r\n",
      "\r\n",
      "        var outid='学&nbsp;(工)&nbsp;号：';\r\n",
      "        var merchant='商&nbsp; 户 &nbsp;号：';\r\n",
      "        function LableOutidChange(obj)\r\n",
      "       {\r\n",
      "            if(obj.checked) $(\"#lblOutid\").html(merchant);\r\n",
      "            else $(\"#lblOutid\").html(outid);\r\n",
      "        }\r\n",
      "\r\n",
      "        function setTab(name,cursel,n){\r\n",
      "\r\n",
      "             for(i=1;i<=n;i++){\r\n",
      "\r\n",
      "              var menu=document.getElementById(name+i);\r\n",
      "\r\n",
      "              menu.className=i==cursel?\"hover\":\"\";\r\n",
      "             }\r\n",
      "\r\n",
      "             if (cursel==1) { $(\"#lblOutid\").html(outid); $(\"#hfIsManager\").val(\"0\");$(\"#aForgetPWD\").css(\"display\",\"block\");}\r\n",
      "             else { $(\"#lblOutid\").html(merchant);$(\"#hfIsManager\").val(\"1\");$(\"#aForgetPWD\").css(\"display\",\"none\");}\r\n",
      "        }\r\n",
      "        function Upgrade() {\r\n",
      "            showOverlay();\r\n",
      "            setTimeout(executeUpgrade, 20);\r\n",
      "        }\r\n",
      "        function closeOverlay() {\r\n",
      "            $('body').css(\"style\", \"\").removeClass();\r\n",
      "            $(\".overlay\").remove();\r\n",
      "            $(\".overlay-loading\").remove();\r\n",
      "        }\r\n",
      "        function showOverlay() {\r\n",
      "            var wWidth = $(window).width();\r\n",
      "            var wHeight = $(window).height();\r\n",
      "\r\n",
      "            var $model = $(\"<div class='overlay-container' id='upgrade_container'><div class='overlay-loading' id='upgrade_rate'>0%</div><div id='upgrade_msg' class='overlay-msg'>开始升级</div></div>\");\r\n",
      "\r\n",
      "            var mWidth = wWidth / 2 - 62;\r\n",
      "            var mHeight = wHeight / 2 - 62;\r\n",
      "            $model.css({ \"top\": mHeight, \"left\": mWidth }).show();\r\n",
      "\r\n",
      "            $('body').overlay({\r\n",
      "                opacity: 0.9,\r\n",
      "                //closeOnClick: closeOnClick,\r\n",
      "                zIndex: 2000\r\n",
      "            }).append($model);\r\n",
      "        }\r\n",
      "        function hideOverlay() {\r\n",
      "            $(\"#upgrade_container\").hide();\r\n",
      "            closeOverlay();\r\n",
      "        }\r\n",
      "        function executeUpgrade() {\r\n",
      "            var url = \"ajax/SysUpgrade.ashx?rd=\" + Math.random();\r\n",
      "            $.ajax({\r\n",
      "                type: \"GET\",\r\n",
      "                dataType: \"json\",\r\n",
      "                url: url,\r\n",
      "                success: function (data) {\r\n",
      "                    var rate = parseInt(data.rate);\r\n",
      "                    var msg = data.msg;\r\n",
      "                    $(\"#upgrade_rate\").html(rate + \"%\");\r\n",
      "                    $(\"#upgrade_msg\").html(msg);\r\n",
      "\r\n",
      "                    if (rate < 100 && rate != -1) {\r\n",
      "                        setTimeout(executeUpgrade, 20);\r\n",
      "                    }\r\n",
      "                    if (rate == 100) {\r\n",
      "                        hideOverlay();\r\n",
      "                    }\r\n",
      "                },\r\n",
      "                error: function (XMLHttpRequest, textStatus, errorThrown) {\r\n",
      "                    $(\"#upgrade_msg\").html(\"升级异常，请联系管理员\");\r\n",
      "                }\r\n",
      "            });\r\n",
      "        }\r\n",
      "    </script>\r\n",
      "</head>\r\n",
      "<body style=\"height: 100%\">\r\n",
      "    <form method=\"post\" action=\"Login.aspx\" id=\"form2\">\r\n",
      "<input type=\"hidden\" name=\"__VIEWSTATE\" id=\"__VIEWSTATE\" value=\"/wEPDwUKMTM4OTU1Nzc4NA8WAh4Hc3lzSW5mbzKSBQABAAAA/////wEAAAAAAAAADAIAAABPTmV3Y2FwZWMuVW5pdmVyc2FsU1MuRFRPLCBWZXJzaW9uPTEuMC4wLjAsIEN1bHR1cmU9bmV1dHJhbCwgUHVibGljS2V5VG9rZW49bnVsbAwDAAAAUk5ld2NhcGVjLlVuaXZlcnNhbFNTLkVudGl0eSwgVmVyc2lvbj0xLjAuMC4wLCBDdWx0dXJlPW5ldXRyYWwsIFB1YmxpY0tleVRva2VuPW51bGwFAQAAAChOZXdjYXBlYy5Vbml2ZXJzYWxTUy5EVE8uRFRPX09VVF9TWVNJTkZPBAAAAB48T1BFUkFUSU9OTU9ERT5rX19CYWNraW5nRmllbGQbRFRPX1dTUnVuUmVzdWx0K19yZXN1bHRDb2RlGkRUT19XU1J1blJlc3VsdCtfcmVzdWx0TXNnHURUT19XU1J1blJlc3VsdCtfRWNhcmRWZXJzaW9uBAEBBDNOZXdjYXBlYy5Vbml2ZXJzYWxTUy5FbnRpdHkuRW51bS5FbnVtX09QRVJBVElPTk1PREUDAAAAMk5ld2NhcGVjLlVuaXZlcnNhbFNTLkVudGl0eS5FbnVtLkVudW1fRWNhcmRWZXJzaW9uAwAAAAIAAAAF/P///zNOZXdjYXBlYy5Vbml2ZXJzYWxTUy5FbnRpdHkuRW51bS5FbnVtX09QRVJBVElPTk1PREUBAAAAB3ZhbHVlX18ACAMAAAABAAAABgUAAAABMQYGAAAADOaJp+ihjOaIkOWKnwX5////Mk5ld2NhcGVjLlVuaXZlcnNhbFNTLkVudGl0eS5FbnVtLkVudW1fRWNhcmRWZXJzaW9uAQAAAAd2YWx1ZV9fAAgDAAAAQAAAAAsWAgIDD2QWBAIDDw8WAh4HVmlzaWJsZWhkFgJmDw8WAh4EVGV4dAUIMDAwMDAwMDBkZAILDw8WBB4LTmF2aWdhdGVVcmwFI2h0dHBzOi8vZWNhcmQubmV1LmVkdS5jbi9zZWxmc2VhcmNoHwFnZGRkBDnSesXTqaqY20EsMZU/xCBYfl7Q125vq0cgYgtsKsk=\" />\r\n",
      "\r\n",
      "<input type=\"hidden\" name=\"__EVENTVALIDATION\" id=\"__EVENTVALIDATION\" value=\"/wEWBgKhs973AwKl1bKzCQK1qbSRCwLTtPqEDQLkysKABAKC3IeGDO33jPJFcwVcvG5thCGwGqHWc/Yf/wJSZOOIZv2YgO3a\" />\r\n",
      "    <div>\r\n",
      "        \r\n",
      "        \r\n",
      "    </div>\r\n",
      "    <div class=\"LoginBox\">\r\n",
      "        <div class=\"mainLogin\">\r\n",
      "            <div class=\"headerBox\">\r\n",
      "                <div class=\"header clearfix\">\r\n",
      "                    <h1>\r\n",
      "                        <a href=\"\" class=\"logo\">\r\n",
      "                            一卡通自助查询</a></h1>\r\n",
      "                </div>\r\n",
      "                \r\n",
      "            </div>\r\n",
      "            <div class=\"mainBox  bg1\">\r\n",
      "                <div class=\"main\">\r\n",
      "                    <div class=\"positionBox clearfix\">\r\n",
      "                        <div class=\"loginBox\">\r\n",
      "                            <div class=\"formbox\">\r\n",
      "                                <div class=\"m1-m border\">\r\n",
      "                                    <div class=\"yydt\">\r\n",
      "                                        <ul>\r\n",
      "                                            <li class=\"hover\" id=\"one1\" onmouseover=\"setTab('one',1,2)\"><a href=\"#\">\r\n",
      "                                                用户登录</a> </li>\r\n",
      "                                            <li id=\"one2\" onmouseover=\"setTab(&#39;one&#39;,2,2)\"><a href=\"#\">商户登录</a> </li>\r\n",
      "                                        </ul>\r\n",
      "                                    </div>\r\n",
      "                                    <div class=\"tab1\">\r\n",
      "                                        <div id=\"con_one_1\">\r\n",
      "                                            \r\n",
      "                                            \r\n",
      "                                            <div class=\"usernameBox\">\r\n",
      "                                                <input name=\"txtUserName\" type=\"text\" maxlength=\"32\" id=\"txtUserName\" class=\"username\" />\r\n",
      "                                                <span id=\"lblOutid\" class=\"placeholder\">学&nbsp;(工)&nbsp;号：</span>\r\n",
      "                                            </div>\r\n",
      "                                            \r\n",
      "                                            <div class=\"passwordBox\">\r\n",
      "                                                <input name=\"txtPassword\" type=\"password\" id=\"txtPassword\" class=\"password\" autocomplete=\"off\" />\r\n",
      "                                                <label for=\"freepassword\" class=\"placeholder\">\r\n",
      "                                                    密&nbsp;&nbsp;&nbsp;&nbsp;码：</label>\r\n",
      "                                            </div>\r\n",
      "                                            <div id=\"checkcodeBoxPanel\" class=\"checkcodeBox\">\r\n",
      "                                                <div class=\"clearfix\">\r\n",
      "                                                    <input name=\"txtVaildateCode\" type=\"text\" id=\"txtVaildateCode\" />\r\n",
      "                                                    <img style=\"cursor: pointer; position: absolute; top: 2px; left: 160px;\" id=\"imgRandom\"\r\n",
      "                                                        alt='看不清？点击更换' onclick=\"ShowValidImage()\" src=\"\" title='看不清？点击更换' />\r\n",
      "                                                    <label for=\"freecheckcode\" class=\"placeholder\">\r\n",
      "                                                        验 证 码：</label>\r\n",
      "                                                </div>\r\n",
      "                                                \r\n",
      "                                            </div>\r\n",
      "                                        </div>\r\n",
      "                                    </div>\r\n",
      "                                    \r\n",
      "                                    <div class=\"isManagerPanel\">\r\n",
      "                                         <input type=\"hidden\" name=\"hfIsManager\" id=\"hfIsManager\" value=\"0\" />\r\n",
      "                                        <a id=\"hlSafeLogin\" href=\"https://ecard.neu.edu.cn/selfsearch\" target=\"_self\">安全登录</a>\r\n",
      "                                        <a href=\"User/PwdLoss.aspx\" style=\"line-height: 35px;\" id=\"aForgetPWD\">\r\n",
      "                                            忘记密码</a></div>\r\n",
      "                                    <div class=\"login_btn clearfix\">\r\n",
      "                                        \r\n",
      "                                        <a id=\"btnLogin\" class=\"loginBtn\" href=\"javascript:__doPostBack(&#39;btnLogin&#39;,&#39;&#39;)\"></a>\r\n",
      "                                        <a href=\"javascript:void(0)\" class=\"resBtn\" onclick=\"FormReset()\">\r\n",
      "                                            重置</a>\r\n",
      "                                    </div>\r\n",
      "                                    <div class=\"loginerror\">\r\n",
      "                                        \r\n",
      "                                    </div>\r\n",
      "                                </div>\r\n",
      "                            </div>\r\n",
      "                        </div>\r\n",
      "                    </div>\r\n",
      "                </div>\r\n",
      "            </div>\r\n",
      "            <div class=\"footerBox\">\r\n",
      "                <div class=\"footer clearfix\">\r\n",
      "                    <p class=\"copy\">\r\n",
      "                        技术支持&nbsp;新开普电子股份有限公司</p>\r\n",
      "                </div>\r\n",
      "            </div>\r\n",
      "        </div>\r\n",
      "    </div>\r\n",
      "    </form>\r\n",
      "</body>\r\n",
      "</html>\r\n",
      "\n"
     ]
    }
   ],
   "source": [
    "#查看获取到网页内容\n",
    "print(resp_login_page.text)"
   ]
  },
  {
   "cell_type": "markdown",
   "metadata": {},
   "source": [
    "以上内容，我们可以用正则表达式来找出我们想要的信息，不过太难了。让我们来尝尝神奇的BeautifulSoup😎\n",
    "\n",
    "第一个参数是网页的内容，第二个参数是所用的解析器，‘html.parser’是python标准库中自带的。\n",
    "\n",
    "这样我们就获得了一个文档对象。"
   ]
  },
  {
   "cell_type": "code",
   "execution_count": 5,
   "metadata": {},
   "outputs": [],
   "source": [
    "soup_login_page = BeautifulSoup(resp_login_page.text, 'html.parser')"
   ]
  },
  {
   "cell_type": "markdown",
   "metadata": {},
   "source": [
    "通过这个文档对象可以轻易地获取我们想获取的内容。\n",
    "\n",
    "以下代码找到了页面中的title标签。\n",
    "\n",
    "关于find方法的更多介绍，你可以[看这里](https://www.crummy.com/software/BeautifulSoup/bs4/doc/index.zh.html#find)\n",
    "\n",
    "- find返回第一个结果。\n",
    "- find_all方法会返回一个储存了全部结果的list"
   ]
  },
  {
   "cell_type": "code",
   "execution_count": 6,
   "metadata": {},
   "outputs": [
    {
     "data": {
      "text/plain": [
       "<title>\n",
       "\t\n",
       "        一卡通自助查询\n",
       "        --欢迎登录\n",
       "</title>"
      ]
     },
     "execution_count": 6,
     "metadata": {},
     "output_type": "execute_result"
    }
   ],
   "source": [
    "soup_login_page.find('title')"
   ]
  },
  {
   "cell_type": "markdown",
   "metadata": {},
   "source": [
    "也可以直接用id来搜索"
   ]
  },
  {
   "cell_type": "code",
   "execution_count": 7,
   "metadata": {},
   "outputs": [
    {
     "data": {
      "text/plain": [
       "<li class=\"hover\" id=\"one1\" onmouseover=\"setTab('one',1,2)\"><a href=\"#\">\n",
       "                                                用户登录</a> </li>"
      ]
     },
     "execution_count": 7,
     "metadata": {},
     "output_type": "execute_result"
    }
   ],
   "source": [
    "soup_login_page.find(id='one1')"
   ]
  },
  {
   "cell_type": "markdown",
   "metadata": {},
   "source": [
    "那你来试试看，获取VIEWSTATE和EVENTVALIDATION的值。\n",
    "\n",
    "提示：他们的值写的html里面，并且有特定的id。\n",
    "标签的属性，可以通过`xxx['abc']`来获取"
   ]
  },
  {
   "cell_type": "code",
   "execution_count": 8,
   "metadata": {},
   "outputs": [
    {
     "name": "stdout",
     "output_type": "stream",
     "text": [
      "/wEPDwUKMTM4OTU1Nzc4NA8WAh4Hc3lzSW5mbzKSBQABAAAA/////wEAAAAAAAAADAIAAABPTmV3Y2FwZWMuVW5pdmVyc2FsU1MuRFRPLCBWZXJzaW9uPTEuMC4wLjAsIEN1bHR1cmU9bmV1dHJhbCwgUHVibGljS2V5VG9rZW49bnVsbAwDAAAAUk5ld2NhcGVjLlVuaXZlcnNhbFNTLkVudGl0eSwgVmVyc2lvbj0xLjAuMC4wLCBDdWx0dXJlPW5ldXRyYWwsIFB1YmxpY0tleVRva2VuPW51bGwFAQAAAChOZXdjYXBlYy5Vbml2ZXJzYWxTUy5EVE8uRFRPX09VVF9TWVNJTkZPBAAAAB48T1BFUkFUSU9OTU9ERT5rX19CYWNraW5nRmllbGQbRFRPX1dTUnVuUmVzdWx0K19yZXN1bHRDb2RlGkRUT19XU1J1blJlc3VsdCtfcmVzdWx0TXNnHURUT19XU1J1blJlc3VsdCtfRWNhcmRWZXJzaW9uBAEBBDNOZXdjYXBlYy5Vbml2ZXJzYWxTUy5FbnRpdHkuRW51bS5FbnVtX09QRVJBVElPTk1PREUDAAAAMk5ld2NhcGVjLlVuaXZlcnNhbFNTLkVudGl0eS5FbnVtLkVudW1fRWNhcmRWZXJzaW9uAwAAAAIAAAAF/P///zNOZXdjYXBlYy5Vbml2ZXJzYWxTUy5FbnRpdHkuRW51bS5FbnVtX09QRVJBVElPTk1PREUBAAAAB3ZhbHVlX18ACAMAAAABAAAABgUAAAABMQYGAAAADOaJp+ihjOaIkOWKnwX5////Mk5ld2NhcGVjLlVuaXZlcnNhbFNTLkVudGl0eS5FbnVtLkVudW1fRWNhcmRWZXJzaW9uAQAAAAd2YWx1ZV9fAAgDAAAAQAAAAAsWAgIDD2QWBAIDDw8WAh4HVmlzaWJsZWhkFgJmDw8WAh4EVGV4dAUIMDAwMDAwMDBkZAILDw8WBB4LTmF2aWdhdGVVcmwFI2h0dHBzOi8vZWNhcmQubmV1LmVkdS5jbi9zZWxmc2VhcmNoHwFnZGRkBDnSesXTqaqY20EsMZU/xCBYfl7Q125vq0cgYgtsKsk=\n",
      "/wEWBgKhs973AwKl1bKzCQK1qbSRCwLTtPqEDQLkysKABAKC3IeGDO33jPJFcwVcvG5thCGwGqHWc/Yf/wJSZOOIZv2YgO3a\n"
     ]
    }
   ],
   "source": [
    "VIEWSTATE= soup_login_page.find(id=\"__VIEWSTATE\")['value']\n",
    "EVENTVALIDATION= soup_login_page.find(id=\"__EVENTVALIDATION\")['value']\n",
    "print(VIEWSTATE)\n",
    "print(EVENTVALIDATION)"
   ]
  },
  {
   "cell_type": "markdown",
   "metadata": {},
   "source": [
    "### 4.1.2获取验证码\n",
    "通常你看到的网页中的图片，在html中只是写了一个图片的链接。\n",
    "我们的验证码也需要从一个图片获得。\n"
   ]
  },
  {
   "cell_type": "code",
   "execution_count": 9,
   "metadata": {},
   "outputs": [],
   "source": [
    "# 获得验证码的url，你需要写一行,提示：你可能需要随机数函数\n",
    "url_captcha='http://ecard.neu.edu.cn/SelfSearch/validateimage.ashx?' + str(random.random())\n",
    "#向该链接发送get请求，并获取Response对象，你需要写一行\n",
    "resp_captcha = session.get(url=url_captcha)"
   ]
  },
  {
   "cell_type": "markdown",
   "metadata": {},
   "source": [
    "将图片保存。\n",
    "[关于二进制的响应内容](http://docs.python-requests.org/zh_CN/latest/user/quickstart.html#id4)"
   ]
  },
  {
   "cell_type": "code",
   "execution_count": 10,
   "metadata": {},
   "outputs": [],
   "source": [
    "with open('captcha.gif', 'wb') as f:\n",
    "    f.write(resp_captcha.content)\n",
    "    f.close()"
   ]
  },
  {
   "cell_type": "markdown",
   "metadata": {},
   "source": [
    "读取图片文件，并显示。\n",
    "\n",
    "[教程看这里](https://matplotlib.org/tutorials/introductory/images.html#sphx-glr-tutorials-introductory-images-py)"
   ]
  },
  {
   "cell_type": "code",
   "execution_count": 11,
   "metadata": {
    "scrolled": true
   },
   "outputs": [
    {
     "name": "stdout",
     "output_type": "stream",
     "text": [
      "8050\n",
      "\n",
      "\n"
     ]
    },
    {
     "data": {
      "image/png": "[encoded data removed]",
      "text/plain": [
       "<Figure size 432x288 with 1 Axes>"
      ]
     },
     "metadata": {},
     "output_type": "display_data"
    }
   ],
   "source": [
    "img = mpimg.imread('captcha.gif')\n",
    "plt.imshow(img)\n",
    "image = Image.open('captcha.gif')\n",
    "captcha_code=tesserocr.image_to_text(image)\n",
    "print(captcha_code)"
   ]
  },
  {
   "cell_type": "code",
   "execution_count": 12,
   "metadata": {},
   "outputs": [],
   "source": [
    "#把看到的验证码填到这里,注意是字符串形式哟(nope)\n",
    "captcha=captcha_code"
   ]
  },
  {
   "cell_type": "markdown",
   "metadata": {},
   "source": [
    "### 4.1.3登录"
   ]
  },
  {
   "cell_type": "markdown",
   "metadata": {},
   "source": [
    "登录需要向服务器发送一个post请求，\n",
    "你需要先获取所需的链接和post请求的请求体内容"
   ]
  },
  {
   "cell_type": "code",
   "execution_count": 13,
   "metadata": {},
   "outputs": [],
   "source": [
    "userName = 20175364\n",
    "passwd=235956\n",
    "\n",
    "postdata = {\n",
    "    \"_LASTFOCUS\": '',\n",
    "    \"__EVENTTARGET\": 'btnLogin',\n",
    "    \"__EVENTARGUMENT\":'',\n",
    "    \"__VIEWSTATE\":VIEWSTATE,\n",
    "    \"__EVENTVALIDATION\":EVENTVALIDATION,\n",
    "    \"txtUserName\":userName,\n",
    "    \"txtPassword\":passwd,\n",
    "    \"txtVaildateCode\":captcha,\n",
    "    \"hfIsManager\":0\n",
    "}\n",
    "url_login =\"http://ecard.neu.edu.cn/SelfSearch/login.aspx\"\n"
   ]
  },
  {
   "cell_type": "code",
   "execution_count": 14,
   "metadata": {},
   "outputs": [
    {
     "name": "stdout",
     "output_type": "stream",
     "text": [
      "跳转的链接： http://ecard.neu.edu.cn/SelfSearch/Index.aspx\n"
     ]
    }
   ],
   "source": [
    "loginresponse = session.post(url=url_login,data=postdata)\n",
    "print('跳转的链接：', loginresponse.url)"
   ]
  },
  {
   "cell_type": "markdown",
   "metadata": {},
   "source": [
    "如果返回的是'http://ecard.neu.edu.cn/SelfSearch/Index.aspx' 则说明我们已经登录成功并且跳转到了登陆后的页面。"
   ]
  },
  {
   "cell_type": "markdown",
   "metadata": {},
   "source": [
    "来看看你的证件照吧！"
   ]
  },
  {
   "cell_type": "code",
   "execution_count": 15,
   "metadata": {},
   "outputs": [
    {
     "name": "stdout",
     "output_type": "stream",
     "text": [
      "跳转链接 http://ecard.neu.edu.cn/SelfSearch/User/Photo.ashx\n"
     ]
    }
   ],
   "source": [
    "# 自己去找照片的url\n",
    "url_profile_photo='http://ecard.neu.edu.cn/SelfSearch/User/Photo.ashx'\n",
    "\n",
    "#发送get请求\n",
    "resp_profile_photo = session.get(url=url_profile_photo)\n",
    "\n",
    "#你可以看请求对象的url属性值是否为http://ecard.neu.edu.cn/SelfSearch/User/Photo.ashx 来判断是否是登录成功的。因为要是没成功，回跳转到登录页面\n",
    "print('跳转链接', resp_profile_photo.url)\n",
    "\n",
    "#保存图片\n",
    "with open('userPic.jpg', 'wb') as f:\n",
    "    f.write(resp_profile_photo.content)\n",
    "    f.close()\n"
   ]
  },
  {
   "cell_type": "code",
   "execution_count": 16,
   "metadata": {},
   "outputs": [
    {
     "data": {
      "text/plain": [
       "<matplotlib.image.AxesImage at 0x13f8f0287f0>"
      ]
     },
     "execution_count": 16,
     "metadata": {},
     "output_type": "execute_result"
    },
    {
     "data": {
      "image/png": "[encoded data removed]",
      "text/plain": [
       "<Figure size 432x288 with 1 Axes>"
      ]
     },
     "metadata": {},
     "output_type": "display_data"
    }
   ],
   "source": [
    "#查看图片，自己写\n",
    "pic=mpimg.imread('userPic.jpg')\n",
    "plt.imshow(pic)"
   ]
  },
  {
   "cell_type": "markdown",
   "metadata": {},
   "source": [
    "### 4.2数据查询与获取"
   ]
  },
  {
   "cell_type": "markdown",
   "metadata": {},
   "source": [
    "### 4.2.1 获取查询页面\n",
    "\n",
    "4.2.3 结果翻页"
   ]
  },
  {
   "cell_type": "code",
   "execution_count": 21,
   "metadata": {},
   "outputs": [],
   "source": [
    "# 自己找消费记录是向哪个url请求的\n",
    "url_consumeInfo='http://ecard.neu.edu.cn/SelfSearch/User/ConsumeInfo.aspx'\n",
    "\n",
    "#获取页面\n",
    "consume_response0=session.get(url_consumeInfo)\n",
    "consume_soup = BeautifulSoup(consume_response0.text, 'html.parser')\n",
    "\n",
    "#解析出以下两个变量的值\n",
    "VIEWSTATE='/wEPDwUINDEyMzA5NDkPFgIeCFNvcnRUeXBlBQNBU0MWAmYPZBYCAgMPZBYCAgMPZBYCAgQPPCsAEQIADxYEHgtfIURhdGFCb3VuZGceC18hSXRlbUNvdW50ZmQBEBYAFgAWABYCZg9kFgJmD2QWAgIBD2QWAgIBDw8WBB4IQ3NzQ2xhc3MFClNvcnRCdF9Bc2MeBF8hU0ICAmRkGAEFImN0bDAwJENvbnRlbnRQbGFjZUhvbGRlcjEkZ3JpZFZpZXcPPCsADAEIZmRqLvyQCIBEvWoXSvjpoBGX5CYVpWemU6R5wXfkXD2GKQ=='\n",
    "EVENTVALIDATION='/wEWCAKy/LiJCQL4s9G2CQLns9G2CQLo3PvYBQKQz7OvAgK0zsCfBwL3uvOGAgLk75bKAoTuITueqPrQRS8Lzt4XoYl/ko91ofQH1FUegaVurgQU'"
   ]
  },
  {
   "cell_type": "markdown",
   "metadata": {},
   "source": [
    "### 4.2.2 进行查询与数据解析"
   ]
  },
  {
   "cell_type": "code",
   "execution_count": 22,
   "metadata": {},
   "outputs": [
    {
     "ename": "ConnectionError",
     "evalue": "('Connection aborted.', ConnectionResetError(10054, '远程主机强迫关闭了一个现有的连接。', None, 10054, None))",
     "output_type": "error",
     "traceback": [
      "\u001b[1;31m---------------------------------------------------------------------------\u001b[0m",
      "\u001b[1;31mConnectionResetError\u001b[0m                      Traceback (most recent call last)",
      "\u001b[1;32mC:\\ProgramData\\Anaconda3\\lib\\site-packages\\urllib3\\connectionpool.py\u001b[0m in \u001b[0;36murlopen\u001b[1;34m(self, method, url, body, headers, retries, redirect, assert_same_host, timeout, pool_timeout, release_conn, chunked, body_pos, **response_kw)\u001b[0m\n\u001b[0;32m    600\u001b[0m                                                   \u001b[0mbody\u001b[0m\u001b[1;33m=\u001b[0m\u001b[0mbody\u001b[0m\u001b[1;33m,\u001b[0m \u001b[0mheaders\u001b[0m\u001b[1;33m=\u001b[0m\u001b[0mheaders\u001b[0m\u001b[1;33m,\u001b[0m\u001b[1;33m\u001b[0m\u001b[0m\n\u001b[1;32m--> 601\u001b[1;33m                                                   chunked=chunked)\n\u001b[0m\u001b[0;32m    602\u001b[0m \u001b[1;33m\u001b[0m\u001b[0m\n",
      "\u001b[1;32mC:\\ProgramData\\Anaconda3\\lib\\site-packages\\urllib3\\connectionpool.py\u001b[0m in \u001b[0;36m_make_request\u001b[1;34m(self, conn, method, url, timeout, chunked, **httplib_request_kw)\u001b[0m\n\u001b[0;32m    386\u001b[0m                     \u001b[1;31m# otherwise it looks like a programming error was the cause.\u001b[0m\u001b[1;33m\u001b[0m\u001b[1;33m\u001b[0m\u001b[0m\n\u001b[1;32m--> 387\u001b[1;33m                     \u001b[0msix\u001b[0m\u001b[1;33m.\u001b[0m\u001b[0mraise_from\u001b[0m\u001b[1;33m(\u001b[0m\u001b[0me\u001b[0m\u001b[1;33m,\u001b[0m \u001b[1;32mNone\u001b[0m\u001b[1;33m)\u001b[0m\u001b[1;33m\u001b[0m\u001b[0m\n\u001b[0m\u001b[0;32m    388\u001b[0m         \u001b[1;32mexcept\u001b[0m \u001b[1;33m(\u001b[0m\u001b[0mSocketTimeout\u001b[0m\u001b[1;33m,\u001b[0m \u001b[0mBaseSSLError\u001b[0m\u001b[1;33m,\u001b[0m \u001b[0mSocketError\u001b[0m\u001b[1;33m)\u001b[0m \u001b[1;32mas\u001b[0m \u001b[0me\u001b[0m\u001b[1;33m:\u001b[0m\u001b[1;33m\u001b[0m\u001b[0m\n",
      "\u001b[1;32mC:\\ProgramData\\Anaconda3\\lib\\site-packages\\urllib3\\packages\\six.py\u001b[0m in \u001b[0;36mraise_from\u001b[1;34m(value, from_value)\u001b[0m\n",
      "\u001b[1;32mC:\\ProgramData\\Anaconda3\\lib\\site-packages\\urllib3\\connectionpool.py\u001b[0m in \u001b[0;36m_make_request\u001b[1;34m(self, conn, method, url, timeout, chunked, **httplib_request_kw)\u001b[0m\n\u001b[0;32m    382\u001b[0m                 \u001b[1;32mtry\u001b[0m\u001b[1;33m:\u001b[0m\u001b[1;33m\u001b[0m\u001b[0m\n\u001b[1;32m--> 383\u001b[1;33m                     \u001b[0mhttplib_response\u001b[0m \u001b[1;33m=\u001b[0m \u001b[0mconn\u001b[0m\u001b[1;33m.\u001b[0m\u001b[0mgetresponse\u001b[0m\u001b[1;33m(\u001b[0m\u001b[1;33m)\u001b[0m\u001b[1;33m\u001b[0m\u001b[0m\n\u001b[0m\u001b[0;32m    384\u001b[0m                 \u001b[1;32mexcept\u001b[0m \u001b[0mException\u001b[0m \u001b[1;32mas\u001b[0m \u001b[0me\u001b[0m\u001b[1;33m:\u001b[0m\u001b[1;33m\u001b[0m\u001b[0m\n",
      "\u001b[1;32mC:\\ProgramData\\Anaconda3\\lib\\http\\client.py\u001b[0m in \u001b[0;36mgetresponse\u001b[1;34m(self)\u001b[0m\n\u001b[0;32m   1330\u001b[0m             \u001b[1;32mtry\u001b[0m\u001b[1;33m:\u001b[0m\u001b[1;33m\u001b[0m\u001b[0m\n\u001b[1;32m-> 1331\u001b[1;33m                 \u001b[0mresponse\u001b[0m\u001b[1;33m.\u001b[0m\u001b[0mbegin\u001b[0m\u001b[1;33m(\u001b[0m\u001b[1;33m)\u001b[0m\u001b[1;33m\u001b[0m\u001b[0m\n\u001b[0m\u001b[0;32m   1332\u001b[0m             \u001b[1;32mexcept\u001b[0m \u001b[0mConnectionError\u001b[0m\u001b[1;33m:\u001b[0m\u001b[1;33m\u001b[0m\u001b[0m\n",
      "\u001b[1;32mC:\\ProgramData\\Anaconda3\\lib\\http\\client.py\u001b[0m in \u001b[0;36mbegin\u001b[1;34m(self)\u001b[0m\n\u001b[0;32m    296\u001b[0m         \u001b[1;32mwhile\u001b[0m \u001b[1;32mTrue\u001b[0m\u001b[1;33m:\u001b[0m\u001b[1;33m\u001b[0m\u001b[0m\n\u001b[1;32m--> 297\u001b[1;33m             \u001b[0mversion\u001b[0m\u001b[1;33m,\u001b[0m \u001b[0mstatus\u001b[0m\u001b[1;33m,\u001b[0m \u001b[0mreason\u001b[0m \u001b[1;33m=\u001b[0m \u001b[0mself\u001b[0m\u001b[1;33m.\u001b[0m\u001b[0m_read_status\u001b[0m\u001b[1;33m(\u001b[0m\u001b[1;33m)\u001b[0m\u001b[1;33m\u001b[0m\u001b[0m\n\u001b[0m\u001b[0;32m    298\u001b[0m             \u001b[1;32mif\u001b[0m \u001b[0mstatus\u001b[0m \u001b[1;33m!=\u001b[0m \u001b[0mCONTINUE\u001b[0m\u001b[1;33m:\u001b[0m\u001b[1;33m\u001b[0m\u001b[0m\n",
      "\u001b[1;32mC:\\ProgramData\\Anaconda3\\lib\\http\\client.py\u001b[0m in \u001b[0;36m_read_status\u001b[1;34m(self)\u001b[0m\n\u001b[0;32m    257\u001b[0m     \u001b[1;32mdef\u001b[0m \u001b[0m_read_status\u001b[0m\u001b[1;33m(\u001b[0m\u001b[0mself\u001b[0m\u001b[1;33m)\u001b[0m\u001b[1;33m:\u001b[0m\u001b[1;33m\u001b[0m\u001b[0m\n\u001b[1;32m--> 258\u001b[1;33m         \u001b[0mline\u001b[0m \u001b[1;33m=\u001b[0m \u001b[0mstr\u001b[0m\u001b[1;33m(\u001b[0m\u001b[0mself\u001b[0m\u001b[1;33m.\u001b[0m\u001b[0mfp\u001b[0m\u001b[1;33m.\u001b[0m\u001b[0mreadline\u001b[0m\u001b[1;33m(\u001b[0m\u001b[0m_MAXLINE\u001b[0m \u001b[1;33m+\u001b[0m \u001b[1;36m1\u001b[0m\u001b[1;33m)\u001b[0m\u001b[1;33m,\u001b[0m \u001b[1;34m\"iso-8859-1\"\u001b[0m\u001b[1;33m)\u001b[0m\u001b[1;33m\u001b[0m\u001b[0m\n\u001b[0m\u001b[0;32m    259\u001b[0m         \u001b[1;32mif\u001b[0m \u001b[0mlen\u001b[0m\u001b[1;33m(\u001b[0m\u001b[0mline\u001b[0m\u001b[1;33m)\u001b[0m \u001b[1;33m>\u001b[0m \u001b[0m_MAXLINE\u001b[0m\u001b[1;33m:\u001b[0m\u001b[1;33m\u001b[0m\u001b[0m\n",
      "\u001b[1;32mC:\\ProgramData\\Anaconda3\\lib\\socket.py\u001b[0m in \u001b[0;36mreadinto\u001b[1;34m(self, b)\u001b[0m\n\u001b[0;32m    585\u001b[0m             \u001b[1;32mtry\u001b[0m\u001b[1;33m:\u001b[0m\u001b[1;33m\u001b[0m\u001b[0m\n\u001b[1;32m--> 586\u001b[1;33m                 \u001b[1;32mreturn\u001b[0m \u001b[0mself\u001b[0m\u001b[1;33m.\u001b[0m\u001b[0m_sock\u001b[0m\u001b[1;33m.\u001b[0m\u001b[0mrecv_into\u001b[0m\u001b[1;33m(\u001b[0m\u001b[0mb\u001b[0m\u001b[1;33m)\u001b[0m\u001b[1;33m\u001b[0m\u001b[0m\n\u001b[0m\u001b[0;32m    587\u001b[0m             \u001b[1;32mexcept\u001b[0m \u001b[0mtimeout\u001b[0m\u001b[1;33m:\u001b[0m\u001b[1;33m\u001b[0m\u001b[0m\n",
      "\u001b[1;31mConnectionResetError\u001b[0m: [WinError 10054] 远程主机强迫关闭了一个现有的连接。",
      "\nDuring handling of the above exception, another exception occurred:\n",
      "\u001b[1;31mProtocolError\u001b[0m                             Traceback (most recent call last)",
      "\u001b[1;32mC:\\ProgramData\\Anaconda3\\lib\\site-packages\\requests\\adapters.py\u001b[0m in \u001b[0;36msend\u001b[1;34m(self, request, stream, timeout, verify, cert, proxies)\u001b[0m\n\u001b[0;32m    439\u001b[0m                     \u001b[0mretries\u001b[0m\u001b[1;33m=\u001b[0m\u001b[0mself\u001b[0m\u001b[1;33m.\u001b[0m\u001b[0mmax_retries\u001b[0m\u001b[1;33m,\u001b[0m\u001b[1;33m\u001b[0m\u001b[0m\n\u001b[1;32m--> 440\u001b[1;33m                     \u001b[0mtimeout\u001b[0m\u001b[1;33m=\u001b[0m\u001b[0mtimeout\u001b[0m\u001b[1;33m\u001b[0m\u001b[0m\n\u001b[0m\u001b[0;32m    441\u001b[0m                 )\n",
      "\u001b[1;32mC:\\ProgramData\\Anaconda3\\lib\\site-packages\\urllib3\\connectionpool.py\u001b[0m in \u001b[0;36murlopen\u001b[1;34m(self, method, url, body, headers, retries, redirect, assert_same_host, timeout, pool_timeout, release_conn, chunked, body_pos, **response_kw)\u001b[0m\n\u001b[0;32m    638\u001b[0m             retries = retries.increment(method, url, error=e, _pool=self,\n\u001b[1;32m--> 639\u001b[1;33m                                         _stacktrace=sys.exc_info()[2])\n\u001b[0m\u001b[0;32m    640\u001b[0m             \u001b[0mretries\u001b[0m\u001b[1;33m.\u001b[0m\u001b[0msleep\u001b[0m\u001b[1;33m(\u001b[0m\u001b[1;33m)\u001b[0m\u001b[1;33m\u001b[0m\u001b[0m\n",
      "\u001b[1;32mC:\\ProgramData\\Anaconda3\\lib\\site-packages\\urllib3\\util\\retry.py\u001b[0m in \u001b[0;36mincrement\u001b[1;34m(self, method, url, response, error, _pool, _stacktrace)\u001b[0m\n\u001b[0;32m    356\u001b[0m             \u001b[1;32mif\u001b[0m \u001b[0mread\u001b[0m \u001b[1;32mis\u001b[0m \u001b[1;32mFalse\u001b[0m \u001b[1;32mor\u001b[0m \u001b[1;32mnot\u001b[0m \u001b[0mself\u001b[0m\u001b[1;33m.\u001b[0m\u001b[0m_is_method_retryable\u001b[0m\u001b[1;33m(\u001b[0m\u001b[0mmethod\u001b[0m\u001b[1;33m)\u001b[0m\u001b[1;33m:\u001b[0m\u001b[1;33m\u001b[0m\u001b[0m\n\u001b[1;32m--> 357\u001b[1;33m                 \u001b[1;32mraise\u001b[0m \u001b[0msix\u001b[0m\u001b[1;33m.\u001b[0m\u001b[0mreraise\u001b[0m\u001b[1;33m(\u001b[0m\u001b[0mtype\u001b[0m\u001b[1;33m(\u001b[0m\u001b[0merror\u001b[0m\u001b[1;33m)\u001b[0m\u001b[1;33m,\u001b[0m \u001b[0merror\u001b[0m\u001b[1;33m,\u001b[0m \u001b[0m_stacktrace\u001b[0m\u001b[1;33m)\u001b[0m\u001b[1;33m\u001b[0m\u001b[0m\n\u001b[0m\u001b[0;32m    358\u001b[0m             \u001b[1;32melif\u001b[0m \u001b[0mread\u001b[0m \u001b[1;32mis\u001b[0m \u001b[1;32mnot\u001b[0m \u001b[1;32mNone\u001b[0m\u001b[1;33m:\u001b[0m\u001b[1;33m\u001b[0m\u001b[0m\n",
      "\u001b[1;32mC:\\ProgramData\\Anaconda3\\lib\\site-packages\\urllib3\\packages\\six.py\u001b[0m in \u001b[0;36mreraise\u001b[1;34m(tp, value, tb)\u001b[0m\n\u001b[0;32m    684\u001b[0m         \u001b[1;32mif\u001b[0m \u001b[0mvalue\u001b[0m\u001b[1;33m.\u001b[0m\u001b[0m__traceback__\u001b[0m \u001b[1;32mis\u001b[0m \u001b[1;32mnot\u001b[0m \u001b[0mtb\u001b[0m\u001b[1;33m:\u001b[0m\u001b[1;33m\u001b[0m\u001b[0m\n\u001b[1;32m--> 685\u001b[1;33m             \u001b[1;32mraise\u001b[0m \u001b[0mvalue\u001b[0m\u001b[1;33m.\u001b[0m\u001b[0mwith_traceback\u001b[0m\u001b[1;33m(\u001b[0m\u001b[0mtb\u001b[0m\u001b[1;33m)\u001b[0m\u001b[1;33m\u001b[0m\u001b[0m\n\u001b[0m\u001b[0;32m    686\u001b[0m         \u001b[1;32mraise\u001b[0m \u001b[0mvalue\u001b[0m\u001b[1;33m\u001b[0m\u001b[0m\n",
      "\u001b[1;32mC:\\ProgramData\\Anaconda3\\lib\\site-packages\\urllib3\\connectionpool.py\u001b[0m in \u001b[0;36murlopen\u001b[1;34m(self, method, url, body, headers, retries, redirect, assert_same_host, timeout, pool_timeout, release_conn, chunked, body_pos, **response_kw)\u001b[0m\n\u001b[0;32m    600\u001b[0m                                                   \u001b[0mbody\u001b[0m\u001b[1;33m=\u001b[0m\u001b[0mbody\u001b[0m\u001b[1;33m,\u001b[0m \u001b[0mheaders\u001b[0m\u001b[1;33m=\u001b[0m\u001b[0mheaders\u001b[0m\u001b[1;33m,\u001b[0m\u001b[1;33m\u001b[0m\u001b[0m\n\u001b[1;32m--> 601\u001b[1;33m                                                   chunked=chunked)\n\u001b[0m\u001b[0;32m    602\u001b[0m \u001b[1;33m\u001b[0m\u001b[0m\n",
      "\u001b[1;32mC:\\ProgramData\\Anaconda3\\lib\\site-packages\\urllib3\\connectionpool.py\u001b[0m in \u001b[0;36m_make_request\u001b[1;34m(self, conn, method, url, timeout, chunked, **httplib_request_kw)\u001b[0m\n\u001b[0;32m    386\u001b[0m                     \u001b[1;31m# otherwise it looks like a programming error was the cause.\u001b[0m\u001b[1;33m\u001b[0m\u001b[1;33m\u001b[0m\u001b[0m\n\u001b[1;32m--> 387\u001b[1;33m                     \u001b[0msix\u001b[0m\u001b[1;33m.\u001b[0m\u001b[0mraise_from\u001b[0m\u001b[1;33m(\u001b[0m\u001b[0me\u001b[0m\u001b[1;33m,\u001b[0m \u001b[1;32mNone\u001b[0m\u001b[1;33m)\u001b[0m\u001b[1;33m\u001b[0m\u001b[0m\n\u001b[0m\u001b[0;32m    388\u001b[0m         \u001b[1;32mexcept\u001b[0m \u001b[1;33m(\u001b[0m\u001b[0mSocketTimeout\u001b[0m\u001b[1;33m,\u001b[0m \u001b[0mBaseSSLError\u001b[0m\u001b[1;33m,\u001b[0m \u001b[0mSocketError\u001b[0m\u001b[1;33m)\u001b[0m \u001b[1;32mas\u001b[0m \u001b[0me\u001b[0m\u001b[1;33m:\u001b[0m\u001b[1;33m\u001b[0m\u001b[0m\n",
      "\u001b[1;32mC:\\ProgramData\\Anaconda3\\lib\\site-packages\\urllib3\\packages\\six.py\u001b[0m in \u001b[0;36mraise_from\u001b[1;34m(value, from_value)\u001b[0m\n",
      "\u001b[1;32mC:\\ProgramData\\Anaconda3\\lib\\site-packages\\urllib3\\connectionpool.py\u001b[0m in \u001b[0;36m_make_request\u001b[1;34m(self, conn, method, url, timeout, chunked, **httplib_request_kw)\u001b[0m\n\u001b[0;32m    382\u001b[0m                 \u001b[1;32mtry\u001b[0m\u001b[1;33m:\u001b[0m\u001b[1;33m\u001b[0m\u001b[0m\n\u001b[1;32m--> 383\u001b[1;33m                     \u001b[0mhttplib_response\u001b[0m \u001b[1;33m=\u001b[0m \u001b[0mconn\u001b[0m\u001b[1;33m.\u001b[0m\u001b[0mgetresponse\u001b[0m\u001b[1;33m(\u001b[0m\u001b[1;33m)\u001b[0m\u001b[1;33m\u001b[0m\u001b[0m\n\u001b[0m\u001b[0;32m    384\u001b[0m                 \u001b[1;32mexcept\u001b[0m \u001b[0mException\u001b[0m \u001b[1;32mas\u001b[0m \u001b[0me\u001b[0m\u001b[1;33m:\u001b[0m\u001b[1;33m\u001b[0m\u001b[0m\n",
      "\u001b[1;32mC:\\ProgramData\\Anaconda3\\lib\\http\\client.py\u001b[0m in \u001b[0;36mgetresponse\u001b[1;34m(self)\u001b[0m\n\u001b[0;32m   1330\u001b[0m             \u001b[1;32mtry\u001b[0m\u001b[1;33m:\u001b[0m\u001b[1;33m\u001b[0m\u001b[0m\n\u001b[1;32m-> 1331\u001b[1;33m                 \u001b[0mresponse\u001b[0m\u001b[1;33m.\u001b[0m\u001b[0mbegin\u001b[0m\u001b[1;33m(\u001b[0m\u001b[1;33m)\u001b[0m\u001b[1;33m\u001b[0m\u001b[0m\n\u001b[0m\u001b[0;32m   1332\u001b[0m             \u001b[1;32mexcept\u001b[0m \u001b[0mConnectionError\u001b[0m\u001b[1;33m:\u001b[0m\u001b[1;33m\u001b[0m\u001b[0m\n",
      "\u001b[1;32mC:\\ProgramData\\Anaconda3\\lib\\http\\client.py\u001b[0m in \u001b[0;36mbegin\u001b[1;34m(self)\u001b[0m\n\u001b[0;32m    296\u001b[0m         \u001b[1;32mwhile\u001b[0m \u001b[1;32mTrue\u001b[0m\u001b[1;33m:\u001b[0m\u001b[1;33m\u001b[0m\u001b[0m\n\u001b[1;32m--> 297\u001b[1;33m             \u001b[0mversion\u001b[0m\u001b[1;33m,\u001b[0m \u001b[0mstatus\u001b[0m\u001b[1;33m,\u001b[0m \u001b[0mreason\u001b[0m \u001b[1;33m=\u001b[0m \u001b[0mself\u001b[0m\u001b[1;33m.\u001b[0m\u001b[0m_read_status\u001b[0m\u001b[1;33m(\u001b[0m\u001b[1;33m)\u001b[0m\u001b[1;33m\u001b[0m\u001b[0m\n\u001b[0m\u001b[0;32m    298\u001b[0m             \u001b[1;32mif\u001b[0m \u001b[0mstatus\u001b[0m \u001b[1;33m!=\u001b[0m \u001b[0mCONTINUE\u001b[0m\u001b[1;33m:\u001b[0m\u001b[1;33m\u001b[0m\u001b[0m\n",
      "\u001b[1;32mC:\\ProgramData\\Anaconda3\\lib\\http\\client.py\u001b[0m in \u001b[0;36m_read_status\u001b[1;34m(self)\u001b[0m\n\u001b[0;32m    257\u001b[0m     \u001b[1;32mdef\u001b[0m \u001b[0m_read_status\u001b[0m\u001b[1;33m(\u001b[0m\u001b[0mself\u001b[0m\u001b[1;33m)\u001b[0m\u001b[1;33m:\u001b[0m\u001b[1;33m\u001b[0m\u001b[0m\n\u001b[1;32m--> 258\u001b[1;33m         \u001b[0mline\u001b[0m \u001b[1;33m=\u001b[0m \u001b[0mstr\u001b[0m\u001b[1;33m(\u001b[0m\u001b[0mself\u001b[0m\u001b[1;33m.\u001b[0m\u001b[0mfp\u001b[0m\u001b[1;33m.\u001b[0m\u001b[0mreadline\u001b[0m\u001b[1;33m(\u001b[0m\u001b[0m_MAXLINE\u001b[0m \u001b[1;33m+\u001b[0m \u001b[1;36m1\u001b[0m\u001b[1;33m)\u001b[0m\u001b[1;33m,\u001b[0m \u001b[1;34m\"iso-8859-1\"\u001b[0m\u001b[1;33m)\u001b[0m\u001b[1;33m\u001b[0m\u001b[0m\n\u001b[0m\u001b[0;32m    259\u001b[0m         \u001b[1;32mif\u001b[0m \u001b[0mlen\u001b[0m\u001b[1;33m(\u001b[0m\u001b[0mline\u001b[0m\u001b[1;33m)\u001b[0m \u001b[1;33m>\u001b[0m \u001b[0m_MAXLINE\u001b[0m\u001b[1;33m:\u001b[0m\u001b[1;33m\u001b[0m\u001b[0m\n",
      "\u001b[1;32mC:\\ProgramData\\Anaconda3\\lib\\socket.py\u001b[0m in \u001b[0;36mreadinto\u001b[1;34m(self, b)\u001b[0m\n\u001b[0;32m    585\u001b[0m             \u001b[1;32mtry\u001b[0m\u001b[1;33m:\u001b[0m\u001b[1;33m\u001b[0m\u001b[0m\n\u001b[1;32m--> 586\u001b[1;33m                 \u001b[1;32mreturn\u001b[0m \u001b[0mself\u001b[0m\u001b[1;33m.\u001b[0m\u001b[0m_sock\u001b[0m\u001b[1;33m.\u001b[0m\u001b[0mrecv_into\u001b[0m\u001b[1;33m(\u001b[0m\u001b[0mb\u001b[0m\u001b[1;33m)\u001b[0m\u001b[1;33m\u001b[0m\u001b[0m\n\u001b[0m\u001b[0;32m    587\u001b[0m             \u001b[1;32mexcept\u001b[0m \u001b[0mtimeout\u001b[0m\u001b[1;33m:\u001b[0m\u001b[1;33m\u001b[0m\u001b[0m\n",
      "\u001b[1;31mProtocolError\u001b[0m: ('Connection aborted.', ConnectionResetError(10054, '远程主机强迫关闭了一个现有的连接。', None, 10054, None))",
      "\nDuring handling of the above exception, another exception occurred:\n",
      "\u001b[1;31mConnectionError\u001b[0m                           Traceback (most recent call last)",
      "\u001b[1;32m<ipython-input-22-b898ff7e6272>\u001b[0m in \u001b[0;36m<module>\u001b[1;34m()\u001b[0m\n\u001b[0;32m     11\u001b[0m }\n\u001b[0;32m     12\u001b[0m \u001b[1;33m\u001b[0m\u001b[0m\n\u001b[1;32m---> 13\u001b[1;33m \u001b[0mresp_consume_1\u001b[0m\u001b[1;33m=\u001b[0m\u001b[0msession\u001b[0m\u001b[1;33m.\u001b[0m\u001b[0mpost\u001b[0m\u001b[1;33m(\u001b[0m\u001b[0murl_consumeInfo\u001b[0m\u001b[1;33m,\u001b[0m\u001b[0mdata\u001b[0m\u001b[1;33m=\u001b[0m\u001b[0mpostdata_consume\u001b[0m\u001b[1;33m)\u001b[0m\u001b[1;33m\u001b[0m\u001b[0m\n\u001b[0m\u001b[0;32m     14\u001b[0m \u001b[0msoup_consume_1\u001b[0m \u001b[1;33m=\u001b[0m \u001b[0mBeautifulSoup\u001b[0m\u001b[1;33m(\u001b[0m\u001b[0mresp_consume_1\u001b[0m\u001b[1;33m.\u001b[0m\u001b[0mtext\u001b[0m\u001b[1;33m,\u001b[0m \u001b[1;34m'html.parser'\u001b[0m\u001b[1;33m)\u001b[0m\u001b[1;33m\u001b[0m\u001b[0m\n",
      "\u001b[1;32mC:\\ProgramData\\Anaconda3\\lib\\site-packages\\requests\\sessions.py\u001b[0m in \u001b[0;36mpost\u001b[1;34m(self, url, data, json, **kwargs)\u001b[0m\n\u001b[0;32m    553\u001b[0m         \"\"\"\n\u001b[0;32m    554\u001b[0m \u001b[1;33m\u001b[0m\u001b[0m\n\u001b[1;32m--> 555\u001b[1;33m         \u001b[1;32mreturn\u001b[0m \u001b[0mself\u001b[0m\u001b[1;33m.\u001b[0m\u001b[0mrequest\u001b[0m\u001b[1;33m(\u001b[0m\u001b[1;34m'POST'\u001b[0m\u001b[1;33m,\u001b[0m \u001b[0murl\u001b[0m\u001b[1;33m,\u001b[0m \u001b[0mdata\u001b[0m\u001b[1;33m=\u001b[0m\u001b[0mdata\u001b[0m\u001b[1;33m,\u001b[0m \u001b[0mjson\u001b[0m\u001b[1;33m=\u001b[0m\u001b[0mjson\u001b[0m\u001b[1;33m,\u001b[0m \u001b[1;33m**\u001b[0m\u001b[0mkwargs\u001b[0m\u001b[1;33m)\u001b[0m\u001b[1;33m\u001b[0m\u001b[0m\n\u001b[0m\u001b[0;32m    556\u001b[0m \u001b[1;33m\u001b[0m\u001b[0m\n\u001b[0;32m    557\u001b[0m     \u001b[1;32mdef\u001b[0m \u001b[0mput\u001b[0m\u001b[1;33m(\u001b[0m\u001b[0mself\u001b[0m\u001b[1;33m,\u001b[0m \u001b[0murl\u001b[0m\u001b[1;33m,\u001b[0m \u001b[0mdata\u001b[0m\u001b[1;33m=\u001b[0m\u001b[1;32mNone\u001b[0m\u001b[1;33m,\u001b[0m \u001b[1;33m**\u001b[0m\u001b[0mkwargs\u001b[0m\u001b[1;33m)\u001b[0m\u001b[1;33m:\u001b[0m\u001b[1;33m\u001b[0m\u001b[0m\n",
      "\u001b[1;32mC:\\ProgramData\\Anaconda3\\lib\\site-packages\\requests\\sessions.py\u001b[0m in \u001b[0;36mrequest\u001b[1;34m(self, method, url, params, data, headers, cookies, files, auth, timeout, allow_redirects, proxies, hooks, stream, verify, cert, json)\u001b[0m\n\u001b[0;32m    506\u001b[0m         }\n\u001b[0;32m    507\u001b[0m         \u001b[0msend_kwargs\u001b[0m\u001b[1;33m.\u001b[0m\u001b[0mupdate\u001b[0m\u001b[1;33m(\u001b[0m\u001b[0msettings\u001b[0m\u001b[1;33m)\u001b[0m\u001b[1;33m\u001b[0m\u001b[0m\n\u001b[1;32m--> 508\u001b[1;33m         \u001b[0mresp\u001b[0m \u001b[1;33m=\u001b[0m \u001b[0mself\u001b[0m\u001b[1;33m.\u001b[0m\u001b[0msend\u001b[0m\u001b[1;33m(\u001b[0m\u001b[0mprep\u001b[0m\u001b[1;33m,\u001b[0m \u001b[1;33m**\u001b[0m\u001b[0msend_kwargs\u001b[0m\u001b[1;33m)\u001b[0m\u001b[1;33m\u001b[0m\u001b[0m\n\u001b[0m\u001b[0;32m    509\u001b[0m \u001b[1;33m\u001b[0m\u001b[0m\n\u001b[0;32m    510\u001b[0m         \u001b[1;32mreturn\u001b[0m \u001b[0mresp\u001b[0m\u001b[1;33m\u001b[0m\u001b[0m\n",
      "\u001b[1;32mC:\\ProgramData\\Anaconda3\\lib\\site-packages\\requests\\sessions.py\u001b[0m in \u001b[0;36msend\u001b[1;34m(self, request, **kwargs)\u001b[0m\n\u001b[0;32m    616\u001b[0m \u001b[1;33m\u001b[0m\u001b[0m\n\u001b[0;32m    617\u001b[0m         \u001b[1;31m# Send the request\u001b[0m\u001b[1;33m\u001b[0m\u001b[1;33m\u001b[0m\u001b[0m\n\u001b[1;32m--> 618\u001b[1;33m         \u001b[0mr\u001b[0m \u001b[1;33m=\u001b[0m \u001b[0madapter\u001b[0m\u001b[1;33m.\u001b[0m\u001b[0msend\u001b[0m\u001b[1;33m(\u001b[0m\u001b[0mrequest\u001b[0m\u001b[1;33m,\u001b[0m \u001b[1;33m**\u001b[0m\u001b[0mkwargs\u001b[0m\u001b[1;33m)\u001b[0m\u001b[1;33m\u001b[0m\u001b[0m\n\u001b[0m\u001b[0;32m    619\u001b[0m \u001b[1;33m\u001b[0m\u001b[0m\n\u001b[0;32m    620\u001b[0m         \u001b[1;31m# Total elapsed time of the request (approximately)\u001b[0m\u001b[1;33m\u001b[0m\u001b[1;33m\u001b[0m\u001b[0m\n",
      "\u001b[1;32mC:\\ProgramData\\Anaconda3\\lib\\site-packages\\requests\\adapters.py\u001b[0m in \u001b[0;36msend\u001b[1;34m(self, request, stream, timeout, verify, cert, proxies)\u001b[0m\n\u001b[0;32m    488\u001b[0m \u001b[1;33m\u001b[0m\u001b[0m\n\u001b[0;32m    489\u001b[0m         \u001b[1;32mexcept\u001b[0m \u001b[1;33m(\u001b[0m\u001b[0mProtocolError\u001b[0m\u001b[1;33m,\u001b[0m \u001b[0msocket\u001b[0m\u001b[1;33m.\u001b[0m\u001b[0merror\u001b[0m\u001b[1;33m)\u001b[0m \u001b[1;32mas\u001b[0m \u001b[0merr\u001b[0m\u001b[1;33m:\u001b[0m\u001b[1;33m\u001b[0m\u001b[0m\n\u001b[1;32m--> 490\u001b[1;33m             \u001b[1;32mraise\u001b[0m \u001b[0mConnectionError\u001b[0m\u001b[1;33m(\u001b[0m\u001b[0merr\u001b[0m\u001b[1;33m,\u001b[0m \u001b[0mrequest\u001b[0m\u001b[1;33m=\u001b[0m\u001b[0mrequest\u001b[0m\u001b[1;33m)\u001b[0m\u001b[1;33m\u001b[0m\u001b[0m\n\u001b[0m\u001b[0;32m    491\u001b[0m \u001b[1;33m\u001b[0m\u001b[0m\n\u001b[0;32m    492\u001b[0m         \u001b[1;32mexcept\u001b[0m \u001b[0mMaxRetryError\u001b[0m \u001b[1;32mas\u001b[0m \u001b[0me\u001b[0m\u001b[1;33m:\u001b[0m\u001b[1;33m\u001b[0m\u001b[0m\n",
      "\u001b[1;31mConnectionError\u001b[0m: ('Connection aborted.', ConnectionResetError(10054, '远程主机强迫关闭了一个现有的连接。', None, 10054, None))"
     ]
    }
   ],
   "source": [
    "#构造postdata\n",
    "postdata_consume = {\n",
    "    \"__EVENTTARGET\":'' ,\n",
    "    \"__EVENTARGUMENT\": '',\n",
    "    \"__VIEWSTATE\": VIEWSTATE,\n",
    "    \"__EVENTVALIDATION\": EVENTVALIDATION,\n",
    "    \"ctl00$ContentPlaceHolder1$rbtnType\": '0',\n",
    "    \"ctl00$ContentPlaceHolder1$txtStartDate\": '2018-03-13',\n",
    "    \"ctl00$ContentPlaceHolder1$txtEndDate\": '2018-03-20',\n",
    "    \"ctl00$ContentPlaceHolder1$btnSearch\": '查  询'\n",
    "}\n",
    "\n",
    "resp_consume_1=session.post(url_consumeInfo,data=postdata_consume)\n",
    "soup_consume_1 = BeautifulSoup(resp_consume_1.text, 'html.parser')\n"
   ]
  },
  {
   "cell_type": "code",
   "execution_count": 19,
   "metadata": {
    "scrolled": false
   },
   "outputs": [
    {
     "ename": "NameError",
     "evalue": "name 'soup_consume_1' is not defined",
     "output_type": "error",
     "traceback": [
      "\u001b[1;31m---------------------------------------------------------------------------\u001b[0m",
      "\u001b[1;31mNameError\u001b[0m                                 Traceback (most recent call last)",
      "\u001b[1;32m<ipython-input-19-4bfe2a57b9e7>\u001b[0m in \u001b[0;36m<module>\u001b[1;34m()\u001b[0m\n\u001b[0;32m      1\u001b[0m \u001b[1;31m#找到显示交易信息的table\u001b[0m\u001b[1;33m\u001b[0m\u001b[1;33m\u001b[0m\u001b[0m\n\u001b[1;32m----> 2\u001b[1;33m \u001b[0minfo_table\u001b[0m\u001b[1;33m=\u001b[0m\u001b[0msoup_consume_1\u001b[0m\u001b[1;33m.\u001b[0m\u001b[0mtable\u001b[0m\u001b[1;33m\u001b[0m\u001b[0m\n\u001b[0m\u001b[0;32m      3\u001b[0m \u001b[0mprint\u001b[0m\u001b[1;33m(\u001b[0m\u001b[0minfo_table\u001b[0m\u001b[1;33m)\u001b[0m\u001b[1;33m\u001b[0m\u001b[0m\n",
      "\u001b[1;31mNameError\u001b[0m: name 'soup_consume_1' is not defined"
     ]
    }
   ],
   "source": [
    "#找到显示交易信息的table\n",
    "info_table=soup_consume_1.table\n",
    "print(info_table)"
   ]
  },
  {
   "cell_type": "code",
   "execution_count": 20,
   "metadata": {},
   "outputs": [
    {
     "ename": "NameError",
     "evalue": "name 'info_table' is not defined",
     "output_type": "error",
     "traceback": [
      "\u001b[1;31m---------------------------------------------------------------------------\u001b[0m",
      "\u001b[1;31mNameError\u001b[0m                                 Traceback (most recent call last)",
      "\u001b[1;32m<ipython-input-20-6568ea2996f7>\u001b[0m in \u001b[0;36m<module>\u001b[1;34m()\u001b[0m\n\u001b[0;32m      6\u001b[0m     \u001b[0mprint\u001b[0m\u001b[1;33m(\u001b[0m\u001b[0mtd\u001b[0m\u001b[1;33m.\u001b[0m\u001b[0mstring\u001b[0m\u001b[1;33m)\u001b[0m\u001b[1;33m\u001b[0m\u001b[0m\n\u001b[0;32m      7\u001b[0m '''\n\u001b[1;32m----> 8\u001b[1;33m \u001b[0mprint\u001b[0m\u001b[1;33m(\u001b[0m\u001b[0minfo_table\u001b[0m\u001b[1;33m.\u001b[0m\u001b[0mfind_all\u001b[0m\u001b[1;33m(\u001b[0m\u001b[0mclass_\u001b[0m\u001b[1;33m=\u001b[0m\u001b[1;34m\"HeaderStyle\"\u001b[0m\u001b[1;33m)\u001b[0m\u001b[1;33m)\u001b[0m\u001b[1;33m\u001b[0m\u001b[0m\n\u001b[0m\u001b[0;32m      9\u001b[0m \u001b[1;31m#for i in info_table:\u001b[0m\u001b[1;33m\u001b[0m\u001b[1;33m\u001b[0m\u001b[0m\n\u001b[0;32m     10\u001b[0m \u001b[1;31m#    print(i)\u001b[0m\u001b[1;33m\u001b[0m\u001b[1;33m\u001b[0m\u001b[0m\n",
      "\u001b[1;31mNameError\u001b[0m: name 'info_table' is not defined"
     ]
    }
   ],
   "source": [
    "#想办法利用find_all方法，把每一行的数据提出来，再把一行中的对应内容提取出来\n",
    "#提示：对于一个文档对象  可以利用abc.text 来获取其文字内容\n",
    "#提示：关于HTML的table，可以看这里http://www.w3school.com.cn/tags/tag_table.asp\n",
    "'''\n",
    "for td in info_table.find_all(name='td') :\n",
    "    print(td.string)\n",
    "'''\n",
    "print(info_table.find_all(class_=\"HeaderStyle\"))\n",
    "#for i in info_table:\n",
    "#    print(i)"
   ]
  },
  {
   "cell_type": "markdown",
   "metadata": {},
   "source": [
    "### 4.2.3 翻页（自己完成）\n",
    "\n",
    "1. 探索翻页实现的机制\n",
    "2. 构造对应的请求数据实现翻页"
   ]
  },
  {
   "cell_type": "code",
   "execution_count": null,
   "metadata": {},
   "outputs": [],
   "source": []
  },
  {
   "cell_type": "code",
   "execution_count": null,
   "metadata": {},
   "outputs": [],
   "source": []
  }
 ],
 "metadata": {
  "anaconda-cloud": {},
  "kernelspec": {
   "display_name": "Python 3",
   "language": "python",
   "name": "python3"
  },
  "language_info": {
   "codemirror_mode": {
    "name": "ipython",
    "version": 3
   },
   "file_extension": ".py",
   "mimetype": "text/x-python",
   "name": "python",
   "nbconvert_exporter": "python",
   "pygments_lexer": "ipython3",
   "version": "3.6.4"
  }
 },
 "nbformat": 4,
 "nbformat_minor": 2
}
